{
 "cells": [
  {
   "cell_type": "markdown",
   "id": "600430de",
   "metadata": {},
   "source": [
    "# Urban Vitality Index (UVI) — Los Angeles\n",
    "\n",
    "**Purpose:** This notebook computes multi-sensor urban indicators (NDVI, LST, NO₂, Soil Moisture, Precipitation, DEM) using open Earth observation datasets and creates interactive maps with `geemap`/`folium`. \n",
    "\n",
    "**Important:** This notebook uses the Google Earth Engine (GEE) Python API and `geemap` for convenient access to MODIS, Sentinel-5P, Landsat, GPM, SMAP, and SRTM datasets. You must authenticate Earth Engine on first run. If you prefer not to use GEE, there are alternative scripts in the repo that download data from AWS public buckets.\n",
    "\n",
    "**What you need:**\n",
    "- Install dependencies (see cell below)\n",
    "- Register for Earth Engine (https://earthengine.google.com/) and run `ee.Authenticate()` when prompted\n",
    "\n"
   ]
  },
  {
   "cell_type": "code",
   "execution_count": null,
   "id": "fb963c24",
   "metadata": {},
   "outputs": [],
   "source": [
    "# Install required packages\n",
    "# Run this in a terminal or in the notebook (with `!`) if using a Jupyter environment.\n",
    "# Recommended: run in a virtualenv / conda environment.\n",
    "!pip install earthengine-api geemap folium rasterio geopandas matplotlib scikit-learn pandas numpy joblib\n"
   ]
  },
  {
   "cell_type": "code",
   "execution_count": null,
   "id": "3e3fa5d7",
   "metadata": {},
   "outputs": [],
   "source": [
    "# Authenticate and initialize Earth Engine\n",
    "import ee\n",
    "try:\n",
    "    ee.Initialize()\n",
    "    print('Earth Engine already initialized.')\n",
    "except Exception as e:\n",
    "    print('Initializing Earth Engine...')\n",
    "    ee.Authenticate()\n",
    "    ee.Initialize()\n",
    "    print('Authenticated and initialized Earth Engine.')\n"
   ]
  },
  {
   "cell_type": "code",
   "execution_count": null,
   "id": "19c5e40f",
   "metadata": {},
   "outputs": [],
   "source": [
    "# Define study area: Los Angeles bounding box (WGS84)\n",
    "# bbox = [minLon, minLat, maxLon, maxLat]\n",
    "la_bbox = [-118.67, 33.70, -118.15, 34.34]\n",
    "\n",
    "import ee\n",
    "la_geom = ee.Geometry.BBox(la_bbox[0], la_bbox[1], la_bbox[2], la_bbox[3])\n",
    "la_geom\n"
   ]
  },
  {
   "cell_type": "code",
   "execution_count": null,
   "id": "f82362f1",
   "metadata": {},
   "outputs": [],
   "source": [
    "# Compute NDVI from Landsat 8 surface reflectance (collection2 L2)\n",
    "import ee\n",
    "import geemap\n",
    "\n",
    "# Function to mask clouds for Landsat SR\n",
    "def maskL8sr(image):\n",
    "    # Bits 3 and 5 are cloud and cloud shadow in pixel_qa\n",
    "    qa = image.select('QA_PIXEL')\n",
    "    mask = qa.bitwiseAnd(1 << 3).eq(0).And(qa.bitwiseAnd(1 << 5).eq(0))\n",
    "    return image.updateMask(mask)\n",
    "\n",
    "l8 = ee.ImageCollection('LANDSAT/LC08/C02/T1_L2') \\\n",
    "        .filterBounds(la_geom) \\\n",
    "        .filterDate('2023-06-01', '2023-09-30') \\\n",
    "        .map(maskL8sr)\n",
    "\n",
    "# Select median composite\n",
    "l8_med = l8.median()\n",
    "# SR_B4 = red, SR_B5 = NIR\n",
    "ndvi = l8_med.normalizedDifference(['SR_B5','SR_B4']).rename('NDVI')\n",
    "ndvi_clip = ndvi.clip(la_geom)\n",
    "\n",
    "# Visualize\n",
    "map1 = geemap.Map(center=[34.05, -118.24], zoom=10)\n",
    "map1.addLayer(ndvi_clip, {'min': -0.5, 'max': 0.8, 'palette': ['white','yellow','green']}, 'Landsat NDVI (Jun-Sep 2023)')\n",
    "map1.addLayerControl()\n",
    "map1\n"
   ]
  },
  {
   "cell_type": "code",
   "execution_count": null,
   "id": "5ddb1d96",
   "metadata": {},
   "outputs": [],
   "source": [
    "# MODIS Land Surface Temperature (MOD11A1) - daily LST (scale: 0.02 -> Kelvin)\n",
    "import ee\n",
    "import geemap\n",
    "modis = ee.ImageCollection('MODIS/061/MOD11A1').filterBounds(la_geom).filterDate('2023-06-01','2023-09-30')\n",
    "# LST_Day_1km is in centikelvin units (scale=0.02)\n",
    "lst = modis.select('LST_Day_1km').map(lambda img: img.multiply(0.02).subtract(273.15))\n",
    "lst_med = lst.mean().rename('LST_C')\n",
    "lst_clip = lst_med.clip(la_geom)\n",
    "\n",
    "map2 = geemap.Map(center=[34.05, -118.24], zoom=10)\n",
    "map2.addLayer(lst_clip, {'min': 15, 'max': 45, 'palette': ['blue','yellow','red']}, 'MODIS LST (C)')\n",
    "map2.addLayerControl()\n",
    "map2\n"
   ]
  },
  {
   "cell_type": "code",
   "execution_count": null,
   "id": "4fabe908",
   "metadata": {},
   "outputs": [],
   "source": [
    "# Sentinel-5P NO2 (L3) - use the COPERNICUS_S5P_OFFL_L3_NO2 collection where available\n",
    "import ee\n",
    "s5p = ee.ImageCollection('COPERNICUS/S5P/OFFL/L3_NO2')\n",
    "no2 = s5p.filterBounds(la_geom).filterDate('2023-06-01','2023-09-30').select('NO2_column_number_density').mean()\n",
    "no2_clip = no2.clip(la_geom)\n",
    "\n",
    "import geemap\n",
    "map3 = geemap.Map(center=[34.05, -118.24], zoom=10)\n",
    "map3.addLayer(no2_clip, {'min': 0, 'max': 0.0002, 'palette': ['white','green','yellow','red']}, 'Sentinel-5P NO2')\n",
    "map3.addLayerControl()\n",
    "map3\n"
   ]
  },
  {
   "cell_type": "code",
   "execution_count": null,
   "id": "9c3f3234",
   "metadata": {},
   "outputs": [],
   "source": [
    "# GPM IMERG daily precipitation - use CHIRPS or GPM IMERG collections; here we use GPM IMERG PrecipitationCal (3B-DAY)\n",
    "import ee\n",
    "# GPM IMERG collection in Earth Engine (if available): 'NASA/GPM_L3/IMERG_V06'\n",
    "# Alternatively, use CHIRPS: 'UCSB-CHG/CHIRPS/DAILY'\n",
    "try:\n",
    "    gpm = ee.ImageCollection('NASA/GPM_L3/IMERG_V06').filterBounds(la_geom).filterDate('2023-06-01','2023-09-30')\n",
    "    precip = gpm.select('precipitation').mean().clip(la_geom)\n",
    "except Exception as e:\n",
    "    print('GPM collection not available in EE account; falling back to CHIRPS')\n",
    "    chirps = ee.ImageCollection('UCSB-CHG/CHIRPS/DAILY').filterBounds(la_geom).filterDate('2023-06-01','2023-09-30')\n",
    "    precip = chirps.sum().clip(la_geom)\n",
    "\n",
    "import geemap\n",
    "map4 = geemap.Map(center=[34.05, -118.24], zoom=10)\n",
    "map4.addLayer(precip, {'min': 0, 'max': 300, 'palette': ['white','blue','green']}, 'Precipitation (mm)')\n",
    "map4.addLayerControl()\n",
    "map4\n"
   ]
  },
  {
   "cell_type": "code",
   "execution_count": null,
   "id": "ead9909c",
   "metadata": {},
   "outputs": [],
   "source": [
    "# SMAP soil moisture (if available in Earth Engine) - otherwise use proxy from NASA datasets\n",
    "import ee\n",
    "# SMAP L3 per-pixel surface soil moisture is available as 'NASA_USDA/HSL/SMAP_soil_moisture'\n",
    "try:\n",
    "    smap = ee.ImageCollection('NASA_USDA/HSL/SMAP_soil_moisture').filterBounds(la_geom).filterDate('2023-06-01','2023-09-30')\n",
    "    smap_mean = smap.select('soil_moisture').mean().clip(la_geom)\n",
    "    smap_clip = smap_mean\n",
    "except Exception as e:\n",
    "    print('SMAP not available in EE dataset. Using land surface wetness proxy from MODIS NDVI*LST combination (placeholder).')\n",
    "    smap_clip = ndvi_clip.multiply(0).add(0)\n",
    "\n",
    "import geemap\n",
    "map5 = geemap.Map(center=[34.05, -118.24], zoom=10)\n",
    "map5.addLayer(smap_clip, {'min': 0, 'max': 0.5, 'palette': ['brown','yellow','green']}, 'SMAP soil moisture (m3/m3)')\n",
    "map5.addLayerControl()\n",
    "map5\n"
   ]
  },
  {
   "cell_type": "code",
   "execution_count": null,
   "id": "b8f9e417",
   "metadata": {},
   "outputs": [],
   "source": [
    "# DEM (SRTM) - elevation and slope\n",
    "import ee\n",
    "srtm = ee.Image('USGS/SRTMGL1_003').select('elevation').clip(la_geom)\n",
    "\n",
    "# Compute slope\n",
    "terrain = ee.Algorithms.Terrain(srtm)\n",
    "elevation = srtm\n",
    "slope = terrain.select('slope')\n",
    "\n",
    "import geemap\n",
    "map6 = geemap.Map(center=[34.05, -118.24], zoom=10)\n",
    "map6.addLayer(elevation, {'min': 0, 'max': 1500, 'palette': ['white','gray','green']}, 'SRTM Elevation')\n",
    "map6.addLayer(slope, {'min': 0, 'max': 60}, 'Slope')\n",
    "map6.addLayerControl()\n",
    "map6\n"
   ]
  },
  {
   "cell_type": "code",
   "execution_count": null,
   "id": "63410ed8",
   "metadata": {},
   "outputs": [],
   "source": [
    "# Compose Urban Vitality Index (per-pixel) - normalization & weighted sum\n",
    "import ee\n",
    "# Normalize function: scale to 0-1 given min/max\n",
    "def normalize(img, minval, maxval):\n",
    "    return img.subtract(minval).divide(maxval - minval)\n",
    "\n",
    "# Define expected ranges and normalize\n",
    "ndvi_norm = normalize(ndvi_clip, -0.5, 0.8)  # higher better\n",
    "lst_norm = normalize(lst_clip, 45, 15)  # invert: hotter worse (we flip by reversing min/max)\n",
    "no2_norm = normalize(no2_clip, 0.0003, 0)  # lower better\n",
    "precip_norm = normalize(precip, 0, 300)  # depends on metric; medium rainfall may be good\n",
    "smap_norm = normalize(smap_clip, 0, 0.5)\n",
    "elev_norm = normalize(elevation, 0, 1000)\n",
    "\n",
    "# Assign weights (example): NDVI 30%, LST 25%, NO2 20%, Precip 10%, SMAP 10%, Elevation 5%\n",
    "uvi = (ndvi_norm.multiply(0.30)\n",
    "       .add(lst_norm.multiply(0.25))\n",
    "       .add(no2_norm.multiply(0.20))\n",
    "       .add(precip_norm.multiply(0.10))\n",
    "       .add(smap_norm.multiply(0.10))\n",
    "       .add(elev_norm.multiply(0.05))\n",
    "      ).rename('UVI')\n",
    "\n",
    "map_uvi = geemap.Map(center=[34.05,-118.24], zoom=10)\n",
    "map_uvi.addLayer(uvi.clip(la_geom), {'min':0,'max':1,'palette':['red','yellow','green']}, 'Urban Vitality Index (0-1)')\n",
    "map_uvi.addLayerControl()\n",
    "map_uvi\n"
   ]
  },
  {
   "cell_type": "code",
   "execution_count": null,
   "id": "e03ec619",
   "metadata": {},
   "outputs": [],
   "source": [
    "# Export UVI map to HTML (interactive) and to an image\n",
    "# Save folium/leaflet map to HTML\n",
    "map_uvi.to_html('outputs/uvi_map.html')\n",
    "print('Saved interactive map to outputs/uvi_map.html')\n",
    "\n",
    "# Export a GeoTIFF to Google Drive or to your local filesystem using ee.batch.Export if desired.\n",
    "# Example (export to Google Drive):\n",
    "# task = ee.batch.Export.image.toDrive(image=uvi.clip(la_geom).multiply(1000).toUint16(), description='UVI_LA', folder='UVI_exports', fileNamePrefix='UVI_LA_202306', region=la_geom, scale=30, maxPixels=1e13)\n",
    "# task.start()\n"
   ]
  },
  {
   "cell_type": "markdown",
   "id": "3f63caf4",
   "metadata": {},
   "source": [
    "# Notes & Next Steps\n",
    "\n",
    "- You can adjust dates, weights, and normalization ranges in the 'Compose UVI' cell.\n",
    "- For production: consider downloading scene-level Landsat AWS tiles (see repo scripts) and processing with `rasterio` and `dask` for local/cloud processing.\n",
    "- For Sentinel-5P and SMAP, Earth Engine simplifies ingestion, but you can also use Copernicus/Sentinel API and NSIDC for direct downloads.\n",
    "- Validate UVI using ground station data (air quality sensors, weather stations) and demographic overlays to test equity impacts.\n",
    "\n"
   ]
  }
 ],
 "metadata": {
  "language_info": {
   "name": "python"
  }
 },
 "nbformat": 4,
 "nbformat_minor": 5
}
